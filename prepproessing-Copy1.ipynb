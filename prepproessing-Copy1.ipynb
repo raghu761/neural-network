{
 "cells": [
  {
   "cell_type": "code",
   "execution_count": 1,
   "metadata": {},
   "outputs": [],
   "source": [
    "import cv2"
   ]
  },
  {
   "cell_type": "code",
   "execution_count": 2,
   "metadata": {},
   "outputs": [],
   "source": [
    "image=cv2.imread(\"image_04048.jpg\");"
   ]
  },
  {
   "cell_type": "code",
   "execution_count": 3,
   "metadata": {},
   "outputs": [
    {
     "data": {
      "text/plain": [
       "array([[[ 31,  61,  72],\n",
       "        [ 28,  56,  67],\n",
       "        [ 21,  47,  59],\n",
       "        ...,\n",
       "        [101, 134, 143],\n",
       "        [100, 133, 142],\n",
       "        [ 99, 132, 141]],\n",
       "\n",
       "       [[ 28,  57,  71],\n",
       "        [ 23,  53,  64],\n",
       "        [ 18,  44,  58],\n",
       "        ...,\n",
       "        [103, 136, 145],\n",
       "        [102, 135, 144],\n",
       "        [102, 135, 144]],\n",
       "\n",
       "       [[ 22,  53,  68],\n",
       "        [ 19,  48,  62],\n",
       "        [ 14,  40,  56],\n",
       "        ...,\n",
       "        [103, 136, 145],\n",
       "        [102, 135, 144],\n",
       "        [101, 134, 143]],\n",
       "\n",
       "       ...,\n",
       "\n",
       "       [[ 10,  58,  59],\n",
       "        [ 12,  60,  61],\n",
       "        [ 12,  62,  62],\n",
       "        ...,\n",
       "        [ 44,  88, 111],\n",
       "        [ 45,  89, 112],\n",
       "        [ 45,  89, 112]],\n",
       "\n",
       "       [[ 10,  59,  57],\n",
       "        [ 12,  61,  59],\n",
       "        [ 13,  63,  61],\n",
       "        ...,\n",
       "        [ 44,  89, 110],\n",
       "        [ 45,  90, 111],\n",
       "        [ 46,  91, 112]],\n",
       "\n",
       "       [[ 10,  60,  56],\n",
       "        [ 12,  62,  58],\n",
       "        [ 13,  63,  61],\n",
       "        ...,\n",
       "        [ 44,  89, 110],\n",
       "        [ 45,  90, 111],\n",
       "        [ 46,  91, 112]]], dtype=uint8)"
      ]
     },
     "execution_count": 3,
     "metadata": {},
     "output_type": "execute_result"
    }
   ],
   "source": [
    "image"
   ]
  },
  {
   "cell_type": "code",
   "execution_count": 4,
   "metadata": {},
   "outputs": [
    {
     "name": "stdout",
     "output_type": "stream",
     "text": [
      "<class 'numpy.ndarray'>\n"
     ]
    }
   ],
   "source": [
    "print(type(image))"
   ]
  },
  {
   "cell_type": "code",
   "execution_count": 5,
   "metadata": {},
   "outputs": [],
   "source": [
    "grey=cv2.cvtColor(image,cv2.COLOR_BGR2GRAY)"
   ]
  },
  {
   "cell_type": "code",
   "execution_count": 6,
   "metadata": {},
   "outputs": [
    {
     "data": {
      "text/plain": [
       "array([[ 61,  56,  48, ..., 133, 132, 131],\n",
       "       [ 58,  53,  45, ..., 135, 134, 134],\n",
       "       [ 54,  49,  42, ..., 135, 134, 133],\n",
       "       ...,\n",
       "       [ 53,  55,  56, ...,  90,  91,  91],\n",
       "       [ 53,  55,  57, ...,  90,  91,  92],\n",
       "       [ 53,  55,  57, ...,  90,  91,  92]], dtype=uint8)"
      ]
     },
     "execution_count": 6,
     "metadata": {},
     "output_type": "execute_result"
    }
   ],
   "source": [
    "grey"
   ]
  },
  {
   "cell_type": "code",
   "execution_count": 7,
   "metadata": {},
   "outputs": [],
   "source": [
    "cv2.imshow(\"original image\",image)\n",
    "cv2.imshow(\"grey image \",grey)"
   ]
  },
  {
   "cell_type": "code",
   "execution_count": 8,
   "metadata": {},
   "outputs": [],
   "source": [
    "cv2.waitKey(0)\n",
    "cv2.destroyAllWindows()\n"
   ]
  },
  {
   "cell_type": "code",
   "execution_count": null,
   "metadata": {},
   "outputs": [],
   "source": []
  }
 ],
 "metadata": {
  "kernelspec": {
   "display_name": "Python 3",
   "language": "python",
   "name": "python3"
  },
  "language_info": {
   "codemirror_mode": {
    "name": "ipython",
    "version": 3
   },
   "file_extension": ".py",
   "mimetype": "text/x-python",
   "name": "python",
   "nbconvert_exporter": "python",
   "pygments_lexer": "ipython3",
   "version": "3.7.4"
  }
 },
 "nbformat": 4,
 "nbformat_minor": 2
}
