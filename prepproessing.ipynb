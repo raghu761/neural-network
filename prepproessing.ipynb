{
 "cells": [
  {
   "cell_type": "code",
   "execution_count": 7,
   "metadata": {},
   "outputs": [],
   "source": [
    "import cv2\n",
    "import os\n",
    "from matplotlib import pyplot as plt"
   ]
  },
  {
   "cell_type": "code",
   "execution_count": 8,
   "metadata": {},
   "outputs": [],
   "source": [
    "images=[]\n",
    "imagenames=os.listdir(\"flowers/amapolas/\")\n",
    "#imagenames"
   ]
  },
  {
   "cell_type": "code",
   "execution_count": 9,
   "metadata": {},
   "outputs": [],
   "source": [
    "for i in imagenames:\n",
    "    img=cv2.imread(\"flowers/amapolas/\"+i,1)\n",
    "    resize_it=cv2.resize(img,(int (img.shape[1]/4),int(img.shape[0]/4)))\n",
    "    #resize_it=cv2.resize(img,(int (28),(int (28))\n",
    "    cv2.imshow(\"checking \",resize_it)\n",
    "    cv2.waitKey(1000)\n",
    "    cv2.destroyAllWindows()\n",
    "    cv2.imwrite(\"flowers/resized amapolas/\"+i,resize_it)\n",
    "    "
   ]
  },
  {
   "cell_type": "code",
   "execution_count": 36,
   "metadata": {},
   "outputs": [],
   "source": [
    "images_coltsfoot=[]\n",
    "imagenames_coltsfoot=os.listdir(\"flowers/coltsfoot/\")\n",
    "count=0\n",
    "#imagenames_coltsfoot"
   ]
  },
  {
   "cell_type": "code",
   "execution_count": 47,
   "metadata": {},
   "outputs": [],
   "source": [
    "for i in imagenames_coltsfoot:\n",
    "    img_cf=cv2.imread(\"flowers/coltsfoot/\"+i,1)\n",
    "    resize_cf=cv2.resize(img_cf,(int (img.shape[1]/4),int(img.shape[0]/4)))\n",
    "    cv2.imshow(\"checking \",resize_cf)\n",
    "    cv2.waitKey(1000)\n",
    "    cv2.destroyAllWindows()\n",
    "    cv2.imwrite(\"flowers/resized coltsfoot/\"+str(count)+\".jpg\",resize_cf)\n",
    "    count=count+1"
   ]
  },
  {
   "cell_type": "code",
   "execution_count": 55,
   "metadata": {},
   "outputs": [],
   "source": [
    "images_globethistle=os.listdir(\"flowers/globe thistle/\")\n",
    "count=1\n",
    "#images_globethistle"
   ]
  },
  {
   "cell_type": "code",
   "execution_count": 56,
   "metadata": {},
   "outputs": [],
   "source": [
    "for i in images_globethistle:\n",
    "    img_gt=cv2.imread(\"flowers/globe thistle/\"+i,1)\n",
    "    resize_gt=cv2.resize(img_gt,(int (img.shape[1]/4),int(img.shape[0]/4)))\n",
    "    cv2.imshow(\"checking\",resize_gt)\n",
    "    cv2.waitKey(500)\n",
    "    cv2.destroyAllWindows()\n",
    "    cv2.imwrite(\"flowers/resized globe thistle/\"+str(count)+\".jpg\",resize_gt)\n",
    "    count=count+1"
   ]
  },
  {
   "cell_type": "code",
   "execution_count": 57,
   "metadata": {},
   "outputs": [],
   "source": [
    "image_redginger=os.listdir(\"flowers/red ginger/\")\n",
    "count=1\n",
    "#image_redginger"
   ]
  },
  {
   "cell_type": "code",
   "execution_count": 58,
   "metadata": {},
   "outputs": [],
   "source": [
    "for i in image_redginger:\n",
    "    img_rg=cv2.imread(\"flowers/red ginger/\"+i,1)\n",
    "    resize_rg=cv2.resize(img_rg,(int (img.shape[1]/4),int(img.shape[0]/4)))\n",
    "    cv2.imshow(\"checking \",resize_rg)\n",
    "    cv2.waitKey(500)\n",
    "    cv2.destroyAllWindows()\n",
    "    cv2.imwrite(\"flowers/red ginger/\"+str(count)+\".jpg\",resize_rg)\n",
    "    count=count+1"
   ]
  }
 ],
 "metadata": {
  "kernelspec": {
   "display_name": "Python 3",
   "language": "python",
   "name": "python3"
  },
  "language_info": {
   "codemirror_mode": {
    "name": "ipython",
    "version": 3
   },
   "file_extension": ".py",
   "mimetype": "text/x-python",
   "name": "python",
   "nbconvert_exporter": "python",
   "pygments_lexer": "ipython3",
   "version": "3.7.4"
  }
 },
 "nbformat": 4,
 "nbformat_minor": 2
}
